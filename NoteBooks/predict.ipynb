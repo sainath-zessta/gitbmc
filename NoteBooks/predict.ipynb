{
 "cells": [
  {
   "cell_type": "code",
   "execution_count": 1,
   "id": "import-packages",
   "metadata": {},
   "outputs": [],
   "source": [
    "from datetime import datetime\n",
    "import math"
   ]
  },
  {
   "cell_type": "code",
   "execution_count": null,
   "id": "load-model",
   "metadata": {},
   "outputs": [],
   "source": [
    "scaling_factors = {\n",
    "        \"Bicycle\": [2.1, 0.6, 1.3, 1.1, 1.1, 1.3, 0.7, 1.0, 1.4, 0.7, 1.0, 1.0],\n",
    "        \"Bus\": [1.0, 0.7, 1.0, 1.2, 0.8, 0.9, 1.2, 0.8, 1.1, 1.2, 1.0, 1.0],\n",
    "        \"Car\": [1.3, 1.1, 1.1, 1.1, 1.2, 1.0, 0.9, 1.0, 1.0, 1.0, 1.0, 1.0],\n",
    "        \"LCV\": [1.0, 0.8, 1.3, 0.9, 1.1, 1.1, 1.0, 1.0, 1.1, 0.9, 1.1, 1.0],\n",
    "        \"Three-Wheeler\": [1.4, 1.2, 1.0, 1.1, 1.3, 0.9, 1.0, 1.0, 1.0, 1.0, 1.0, 1.0],\n",
    "        \"Truck\": [0.8, 1.2, 1.1, 0.7, 1.3, 0.9, 1.2, 0.9, 1.1, 1.2, 0.5, 1.0],\n",
    "        \"Two-Wheeler\": [1.4, 1.1, 1.2, 1.2, 1.2, 1.0, 1.0, 0.9, 1.1, 0.9, 1.0, 1.0]\n",
    "    }\n",
    "\n",
    "\n",
    "time_intervals = [\n",
    "        (\"07:30\", \"07:45\"),\n",
    "        (\"07:45\", \"08:00\"),\n",
    "        (\"08:00\", \"08:15\"),\n",
    "        (\"08:15\", \"08:30\"),\n",
    "        (\"08:30\", \"08:45\"),\n",
    "        (\"08:45\", \"09:00\"),\n",
    "        (\"09:00\", \"09:15\"),\n",
    "        (\"09:15\", \"09:30\"),\n",
    "        (\"09:30\", \"09:45\"),\n",
    "        (\"09:45\", \"10:00\"),\n",
    "        (\"10:00\", \"10:15\"),\n",
    "        (\"10:15\", \"10:30\")\n",
    "    ]\n",
    "    \n"
   ]
  },
  {
   "cell_type": "code",
   "execution_count": 3,
   "id": "convert-defaultdict",
   "metadata": {},
   "outputs": [],
   "source": [
    "def get_predicted_count(time, vehicle_class, count):\n",
    "    hour, minute, _ = map(int, time.split(\":\"))\n",
    "    input_time = datetime.strptime(time[:-3], \"%H:%M\")\n",
    "\n",
    "    # Find the correct interval\n",
    "    for index, (start, end) in enumerate(time_intervals):\n",
    "        start_time = datetime.strptime(start, \"%H:%M\")\n",
    "        end_time = datetime.strptime(end, \"%H:%M\")\n",
    "        \n",
    "        if start_time <= input_time < end_time:\n",
    "            break\n",
    "\n",
    "    # Apply the scaling factor based on the vehicle class and time interval\n",
    "    for vehicle, scale in scaling_factors.items():\n",
    "        if vehicle == vehicle_class:\n",
    "            count = math.ceil(count * scale[index])\n",
    "\n",
    "    return count, vehicle_class\n"
   ]
  }
 ],
 "metadata": {
  "kernelspec": {
   "display_name": "Python 3",
   "language": "python",
   "name": "python3"
  },
  "language_info": {
   "codemirror_mode": {
    "name": "ipython",
    "version": 3
   },
   "file_extension": ".py",
   "mimetype": "text/x-python",
   "name": "python",
   "nbconvert_exporter": "python",
   "version": "3.10.12"
  }
 },
 "nbformat": 4,
 "nbformat_minor": 5
}
